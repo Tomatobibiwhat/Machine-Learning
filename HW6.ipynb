{
 "cells": [
  {
   "cell_type": "code",
   "execution_count": 4,
   "metadata": {},
   "outputs": [],
   "source": [
    "import numpy as np\n",
    "import matplotlib.pyplot as plt"
   ]
  },
  {
   "cell_type": "code",
   "execution_count": 2,
   "metadata": {},
   "outputs": [],
   "source": [
    "mu, sigma = 2, 2 # mean and standard deviation\n",
    "s = np.random.normal(mu, sigma, 100)"
   ]
  },
  {
   "cell_type": "code",
   "execution_count": 6,
   "metadata": {},
   "outputs": [
    {
     "data": {
      "image/png": "[encoded data removed]",
      "text/plain": [
       "<matplotlib.figure.Figure at 0x4461428be0>"
      ]
     },
     "metadata": {},
     "output_type": "display_data"
    }
   ],
   "source": [
    "count, bins, ignored = plt.hist(s, 40, normed=True)\n",
    "plt.plot(bins, 1/(sigma * np.sqrt(2 * np.pi)) * np.exp( - (bins - mu)**2 / (2 * sigma**2) ),linewidth=2, color='r')\n",
    "plt.show()"
   ]
  },
  {
   "cell_type": "code",
   "execution_count": 24,
   "metadata": {},
   "outputs": [
    {
     "name": "stdout",
     "output_type": "stream",
     "text": [
      "-27581.89055135426\n"
     ]
    }
   ],
   "source": [
    "###      a)i)    ###\n",
    "import math\n",
    "pai=math.pi\n",
    "pai\n",
    "log=0\n",
    "mu1=1\n",
    "sigma1=2\n",
    "count=0\n",
    "for i in s:\n",
    "    log=log-((i-mu1)**2/(2*sigma1**2))\n",
    "    count=count+1\n",
    "print(-count/2*math.exp(2*pai)-count*math.exp(sigma1)+log) "
   ]
  },
  {
   "cell_type": "code",
   "execution_count": 25,
   "metadata": {},
   "outputs": [
    {
     "name": "stdout",
     "output_type": "stream",
     "text": [
      "-27570.90811003624\n"
     ]
    }
   ],
   "source": [
    "###      a)ii)     ###\n",
    "log=0\n",
    "mu2=1.5\n",
    "sigma2=2\n",
    "count=0\n",
    "for i in s:\n",
    "    log=log-((i-mu2)**2/(2*sigma2**2))\n",
    "    count=count+1\n",
    "print(-count/2*math.exp(2*pai)-count*math.exp(sigma2)+log)"
   ]
  },
  {
   "cell_type": "code",
   "execution_count": 26,
   "metadata": {},
   "outputs": [
    {
     "name": "stdout",
     "output_type": "stream",
     "text": [
      "-27566.17566871822\n"
     ]
    }
   ],
   "source": [
    "###      a)iii)     ###\n",
    "log=0\n",
    "mu3=2\n",
    "sigma3=2\n",
    "count=0\n",
    "for i in s:\n",
    "    log=log-((i-mu3)**2/(2*sigma3**2))\n",
    "    count=count+1\n",
    "print(-count/2*math.exp(2*pai)-count*math.exp(sigma3)+log)"
   ]
  },
  {
   "cell_type": "code",
   "execution_count": 29,
   "metadata": {},
   "outputs": [
    {
     "name": "stdout",
     "output_type": "stream",
     "text": [
      "mean equals 2.128595305441504\n",
      "sigma equals 2.0530422808490147\n"
     ]
    }
   ],
   "source": [
    "###    b    ###\n",
    "mu=0\n",
    "var=0\n",
    "count=0\n",
    "for i in s:\n",
    "    mu=mu+i\n",
    "    var=var+(i-2)**2\n",
    "    count=count+1\n",
    "print(\"mean equals\",mu/count)\n",
    "print(\"sigma equals\",(var/count)**0.5)"
   ]
  },
  {
   "cell_type": "code",
   "execution_count": 43,
   "metadata": {},
   "outputs": [
    {
     "data": {
      "image/png": "[encoded data removed]",
      "text/plain": [
       "<matplotlib.figure.Figure at 0x4461847a58>"
      ]
     },
     "metadata": {},
     "output_type": "display_data"
    },
    {
     "name": "stdout",
     "output_type": "stream",
     "text": [
      "The average of the mu estimates over 50 experiments is 2.034582549697135\n"
     ]
    },
    {
     "data": {
      "image/png": "[encoded data removed]",
      "text/plain": [
       "<matplotlib.figure.Figure at 0x44614a0c18>"
      ]
     },
     "metadata": {},
     "output_type": "display_data"
    },
    {
     "name": "stdout",
     "output_type": "stream",
     "text": [
      "The average of the sigma estimates over 50 experiments is 1.9828214736834562\n"
     ]
    }
   ],
   "source": [
    "###    c   ###\n",
    "muarr=[]\n",
    "sigmaarr=[]\n",
    "for i in range(50):\n",
    "    s = np.random.normal(2, 2, 100)\n",
    "    mu=0\n",
    "    var=0\n",
    "    count=0\n",
    "    for i in s:\n",
    "        mu=mu+i\n",
    "        var=var+(i-2)**2\n",
    "        count=count+1\n",
    "    mu=mu/count\n",
    "    sigma=(var/count)**0.5\n",
    "    muarr.append(mu)\n",
    "    sigmaarr.append(sigma)\n",
    "count, bins, ignored = plt.hist(muarr, 40, normed=True)\n",
    "plt.show()\n",
    "print(\"The average of the mu estimates over 50 experiments is\", sum(muarr)/len(muarr))\n",
    "count, bins, ignored = plt.hist(sigmaarr, 40, normed=True)\n",
    "plt.show()\n",
    "print(\"The average of the sigma estimates over 50 experiments is\", sum(sigmaarr)/len(sigmaarr))"
   ]
  },
  {
   "cell_type": "code",
   "execution_count": 42,
   "metadata": {},
   "outputs": [
    {
     "data": {
      "image/png": "[encoded data removed]",
      "text/plain": [
       "<matplotlib.figure.Figure at 0x4461bbb518>"
      ]
     },
     "metadata": {},
     "output_type": "display_data"
    },
    {
     "name": "stdout",
     "output_type": "stream",
     "text": [
      "The average of the mu estimates over 50 experiments (N=10) is 1.9246217358662379\n"
     ]
    },
    {
     "data": {
      "image/png": "[encoded data removed]",
      "text/plain": [
       "<matplotlib.figure.Figure at 0x44618476a0>"
      ]
     },
     "metadata": {},
     "output_type": "display_data"
    },
    {
     "name": "stdout",
     "output_type": "stream",
     "text": [
      "The average of the sigma estimates over 50 experiments (N=10) is 2.0144099777842324\n"
     ]
    }
   ],
   "source": [
    "###    d-1   ###\n",
    "muarr=[]\n",
    "sigmaarr=[]\n",
    "for i in range(50):\n",
    "    s = np.random.normal(2, 2, 10)\n",
    "    mu=0\n",
    "    var=0\n",
    "    count=0\n",
    "    for i in s:\n",
    "        mu=mu+i\n",
    "        var=var+(i-2)**2\n",
    "        count=count+1\n",
    "    mu=mu/count\n",
    "    sigma=(var/count)**0.5\n",
    "    muarr.append(mu)\n",
    "    sigmaarr.append(sigma)\n",
    "count, bins, ignored = plt.hist(muarr, 40, normed=True)\n",
    "plt.show()\n",
    "print(\"The average of the mu estimates over 50 experiments (N=10) is\", sum(muarr)/len(muarr))\n",
    "count, bins, ignored = plt.hist(sigmaarr, 40, normed=True)\n",
    "plt.show()\n",
    "print(\"The average of the sigma estimates over 50 experiments (N=10) is\", sum(sigmaarr)/len(sigmaarr))"
   ]
  },
  {
   "cell_type": "code",
   "execution_count": 44,
   "metadata": {},
   "outputs": [
    {
     "data": {
      "image/png": "[encoded data removed]",
      "text/plain": [
       "<matplotlib.figure.Figure at 0x446179ba90>"
      ]
     },
     "metadata": {},
     "output_type": "display_data"
    },
    {
     "name": "stdout",
     "output_type": "stream",
     "text": [
      "The average of the mu estimates over 50 experiments (N=1000) is 1.9934118056536112\n"
     ]
    },
    {
     "data": {
      "image/png": "[encoded data removed]",
      "text/plain": [
       "<matplotlib.figure.Figure at 0x4461a620b8>"
      ]
     },
     "metadata": {},
     "output_type": "display_data"
    },
    {
     "name": "stdout",
     "output_type": "stream",
     "text": [
      "The average of the sigma estimates over 50 experiments (N=1000) is 1.9999760565147684\n"
     ]
    }
   ],
   "source": [
    "###    d-1   ###\n",
    "muarr=[]\n",
    "sigmaarr=[]\n",
    "for i in range(50):\n",
    "    s = np.random.normal(2, 2, 1000)\n",
    "    mu=0\n",
    "    var=0\n",
    "    count=0\n",
    "    for i in s:\n",
    "        mu=mu+i\n",
    "        var=var+(i-2)**2\n",
    "        count=count+1\n",
    "    mu=mu/count\n",
    "    sigma=(var/count)**0.5\n",
    "    muarr.append(mu)\n",
    "    sigmaarr.append(sigma)\n",
    "count, bins, ignored = plt.hist(muarr, 40, normed=True)\n",
    "plt.show()\n",
    "print(\"The average of the mu estimates over 50 experiments (N=1000) is\", sum(muarr)/len(muarr))\n",
    "count, bins, ignored = plt.hist(sigmaarr, 40, normed=True)\n",
    "plt.show()\n",
    "print(\"The average of the sigma estimates over 50 experiments (N=1000) is\", sum(sigmaarr)/len(sigmaarr))"
   ]
  },
  {
   "cell_type": "code",
   "execution_count": null,
   "metadata": {},
   "outputs": [],
   "source": [
    "The higher the N size we choose, the closer the estimated mean and sigma are to the true parameter."
   ]
  }
 ],
 "metadata": {
  "kernelspec": {
   "display_name": "Python 3",
   "language": "python",
   "name": "python3"
  },
  "language_info": {
   "codemirror_mode": {
    "name": "ipython",
    "version": 3
   },
   "file_extension": ".py",
   "mimetype": "text/x-python",
   "name": "python",
   "nbconvert_exporter": "python",
   "pygments_lexer": "ipython3",
   "version": "3.6.4"
  }
 },
 "nbformat": 4,
 "nbformat_minor": 2
}
